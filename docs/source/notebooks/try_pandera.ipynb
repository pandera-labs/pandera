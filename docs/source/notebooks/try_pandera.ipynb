{
 "cells": [
  {
   "cell_type": "code",
   "execution_count": null,
   "id": "ac4294bb",
   "metadata": {},
   "outputs": [],
   "source": [
    "import piplite\n",
    "\n",
    "\n",
    "for package in [\n",
    "    \"wrapt\",\n",
    "    \"typing_extensions\",\n",
    "    \"mypy_extensions\",\n",
    "    \"typing_inspect\",\n",
    "    \"pydantic\",\n",
    "    \"pandera\",\n",
    "]:\n",
    "    await piplite.install(package, deps=False)"
   ]
  },
  {
   "cell_type": "code",
   "execution_count": null,
   "id": "c9a4eef5",
   "metadata": {},
   "outputs": [],
   "source": [
    "import pandas as pd\n",
    "import pandera as pa\n",
    "from pandera.typing import DataFrame, Series\n",
    "\n",
    "\n",
    "class Schema(pa.SchemaModel):\n",
    "    item: Series[str] = pa.Field(isin=[\"apple\", \"orange\"], coerce=True)\n",
    "    price: Series[float] = pa.Field(gt=0)\n",
    "\n",
    "\n",
    "@pa.check_types(lazy=True)\n",
    "def transform_data(data: DataFrame[Schema]):\n",
    "    ...\n",
    "\n",
    "\n",
    "data = pd.DataFrame.from_records([\n",
    "    {\"item\": \"applee\", \"price\": 0.5},\n",
    "    {\"item\": \"orange\", \"price\": -1000}\n",
    "])\n",
    "\n",
    "\n",
    "try:\n",
    "    transform_data(data)\n",
    "except pa.errors.SchemaErrors as exc:\n",
    "    display(exc.failure_cases)"
   ]
  }
 ],
 "metadata": {
  "kernelspec": {
   "display_name": "Python 3 (ipykernel)",
   "language": "python",
   "name": "python3"
  },
  "language_info": {
   "codemirror_mode": {
    "name": "ipython",
    "version": 3
   },
   "file_extension": ".py",
   "mimetype": "text/x-python",
   "name": "python",
   "nbconvert_exporter": "python",
   "pygments_lexer": "ipython3",
   "version": "3.9.7"
  }
 },
 "nbformat": 4,
 "nbformat_minor": 5
}
